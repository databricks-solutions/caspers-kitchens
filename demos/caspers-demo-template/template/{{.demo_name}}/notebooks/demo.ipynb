{
 "cells": [
  {
   "cell_type": "markdown",
   "metadata": {},
   "source": [
    "# {{.demo_name}} Demo\n",
    "\n",
    "Starter notebook for your Casper's Kitchen demo."
   ]
  },
  {
   "cell_type": "code",
   "execution_count": null,
   "metadata": {},
   "outputs": [],
   "source": [
    "# Get catalog from job parameter\n",
    "catalog = dbutils.widgets.get(\"catalog\")\n",
    "print(f\"Using catalog: {catalog}\")"
   ]
  },
  {
   "cell_type": "code",
   "execution_count": null,
   "metadata": {},
   "outputs": [],
   "source": [
    "# Example: Query Casper's data\n",
    "# df = spark.sql(f\"SELECT * FROM {catalog}.default.your_table LIMIT 10\")\n",
    "# display(df)"
   ]
  },
  {
   "cell_type": "markdown",
   "metadata": {},
   "source": [
    "## Add your demo logic here\n",
    "\n",
    "Build on top of Casper's Kitchen data and infrastructure."
   ]
  }
 ],
 "metadata": {
  "kernelspec": {
   "display_name": "Python 3",
   "language": "python",
   "name": "python3"
  },
  "language_info": {
   "name": "python",
   "version": "3.9.0"
  }
 },
 "nbformat": 4,
 "nbformat_minor": 4
}
